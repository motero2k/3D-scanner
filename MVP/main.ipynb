{
 "cells": [
  {
   "cell_type": "markdown",
   "id": "ed74bcac",
   "metadata": {},
   "source": [
    "### Paquetes usados:"
   ]
  },
  {
   "cell_type": "code",
   "execution_count": 2,
   "id": "2a834a95",
   "metadata": {},
   "outputs": [],
   "source": [
    "import matplotlib.pyplot as plt\n",
    "import matplotlib.image as plt_img\n",
    "import cv2,PIL\n",
    "from cv2 import aruco\n",
    "import glob\n",
    "import skimage as ski\n",
    "import numpy as np\n",
    "import matplotlib.pyplot as plt\n",
    "import math\n",
    "import os\n",
    "from mpl_toolkits.mplot3d import Axes3D\n",
    "import matplotlib as mpl\n",
    "import pandas as pd\n",
    "%matplotlib nbagg"
   ]
  },
  {
   "cell_type": "markdown",
   "id": "a063252d",
   "metadata": {},
   "source": [
    "# 3D - Scanner:"
   ]
  },
  {
   "cell_type": "markdown",
   "id": "d1bea7f6",
   "metadata": {},
   "source": [
    "Para el uso del código, se explicarán los siguientes pasos:\n",
    "- "
   ]
  }
 ],
 "metadata": {
  "kernelspec": {
   "display_name": "Python 3 (ipykernel)",
   "language": "python",
   "name": "python3"
  },
  "language_info": {
   "codemirror_mode": {
    "name": "ipython",
    "version": 3
   },
   "file_extension": ".py",
   "mimetype": "text/x-python",
   "name": "python",
   "nbconvert_exporter": "python",
   "pygments_lexer": "ipython3",
   "version": "3.9.13"
  }
 },
 "nbformat": 4,
 "nbformat_minor": 5
}
