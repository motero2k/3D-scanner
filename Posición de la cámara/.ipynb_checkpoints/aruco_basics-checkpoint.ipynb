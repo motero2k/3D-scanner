{
 "cells": [
  {
   "cell_type": "markdown",
   "metadata": {},
   "source": [
    "# ARUCO markers: basics\n",
    "\n",
    "## 1:  Marker creation"
   ]
  },
  {
   "cell_type": "code",
   "execution_count": 1,
   "metadata": {},
   "outputs": [],
   "source": [
    "import numpy as np\n",
    "import cv2, PIL\n",
    "from cv2 import aruco\n",
    "import matplotlib.pyplot as plt\n",
    "import matplotlib as mpl\n",
    "import pandas as pd\n",
    "%matplotlib nbagg"
   ]
  },
  {
   "cell_type": "code",
   "execution_count": null,
   "metadata": {},
   "outputs": [],
   "source": [
    "aruco_dict = aruco.Dictionary_get(aruco.DICT_6X6_250)\n",
    "\n",
    "fig = plt.figure()\n",
    "nx = 4\n",
    "ny = 3\n",
    "for i in range(1, nx*ny+1):\n",
    "    ax = fig.add_subplot(ny,nx, i)\n",
    "    img = aruco.drawMarker(aruco_dict,i, 700)\n",
    "    plt.imshow(img, cmap = mpl.cm.gray, interpolation = \"nearest\")\n",
    "    ax.axis(\"off\")\n",
    "\n",
    "plt.savefig(\"_data/markers.pdf\")    \n",
    "plt.show()"
   ]
  },
  {
   "cell_type": "markdown",
   "metadata": {},
   "source": [
    "## 2: Print, cut, stick and take a picture"
   ]
  },
  {
   "cell_type": "code",
   "execution_count": null,
   "metadata": {},
   "outputs": [],
   "source": [
    "frame = cv2.imread(\"_data/aruco_photo.jpg\")\n",
    "plt.figure()\n",
    "plt.imshow(frame)\n",
    "plt.show()"
   ]
  },
  {
   "cell_type": "markdown",
   "metadata": {},
   "source": [
    "## 3: Post processing"
   ]
  },
  {
   "cell_type": "code",
   "execution_count": null,
   "metadata": {},
   "outputs": [],
   "source": [
    "%%time\n",
    "gray = cv2.cvtColor(frame, cv2.COLOR_BGR2GRAY)\n",
    "aruco_dict = aruco.Dictionary_get(aruco.DICT_6X6_250)\n",
    "parameters =  aruco.DetectorParameters_create()\n",
    "corners, ids, rejectedImgPoints = aruco.detectMarkers(gray, aruco_dict, parameters=parameters)\n",
    "frame_markers = aruco.drawDetectedMarkers(frame.copy(), corners, ids)\n"
   ]
  },
  {
   "cell_type": "markdown",
   "metadata": {},
   "source": [
    "Pretty fast processing !\n",
    "\n",
    "## 4: Results"
   ]
  },
  {
   "cell_type": "code",
   "execution_count": null,
   "metadata": {
    "scrolled": false
   },
   "outputs": [],
   "source": [
    "plt.figure()\n",
    "plt.imshow(frame_markers)\n",
    "for i in range(len(ids)):\n",
    "    c = corners[i][0]\n",
    "    plt.plot([c[:, 0].mean()], [c[:, 1].mean()], \"o\", label = \"id={0}\".format(ids[i]))\n",
    "plt.legend()\n",
    "plt.show()"
   ]
  },
  {
   "cell_type": "code",
   "execution_count": null,
   "metadata": {},
   "outputs": [],
   "source": [
    "def quad_area(data):\n",
    "    l = data.shape[0]//2\n",
    "    corners = data[[\"c1\", \"c2\", \"c3\", \"c4\"]].values.reshape(l, 2,4)\n",
    "    c1 = corners[:, :, 0]\n",
    "    c2 = corners[:, :, 1]\n",
    "    c3 = corners[:, :, 2]\n",
    "    c4 = corners[:, :, 3]\n",
    "    e1 = c2-c1\n",
    "    e2 = c3-c2\n",
    "    e3 = c4-c3\n",
    "    e4 = c1-c4\n",
    "    a = -.5 * (np.cross(-e1, e2, axis = 1) + np.cross(-e3, e4, axis = 1))\n",
    "    return a\n",
    "\n",
    "corners2 = np.array([c[0] for c in corners])\n",
    "\n",
    "data = pd.DataFrame({\"x\": corners2[:,:,0].flatten(), \"y\": corners2[:,:,1].flatten()},\n",
    "                   index = pd.MultiIndex.from_product( \n",
    "                           [ids.flatten(), [\"c{0}\".format(i )for i in np.arange(4)+1]], \n",
    "                       names = [\"marker\", \"\"] ))\n",
    "\n",
    "data = data.unstack().swaplevel(0, 1, axis = 1).stack()\n",
    "data[\"m1\"] = data[[\"c1\", \"c2\"]].mean(axis = 1)\n",
    "data[\"m2\"] = data[[\"c2\", \"c3\"]].mean(axis = 1)\n",
    "data[\"m3\"] = data[[\"c3\", \"c4\"]].mean(axis = 1)\n",
    "data[\"m4\"] = data[[\"c4\", \"c1\"]].mean(axis = 1)\n",
    "data[\"o\"] = data[[\"m1\", \"m2\", \"m3\", \"m4\"]].mean(axis = 1)\n",
    "data"
   ]
  },
  {
   "cell_type": "code",
   "execution_count": null,
   "metadata": {},
   "outputs": [],
   "source": []
  }
 ],
 "metadata": {
  "anaconda-cloud": {},
  "kernelspec": {
   "display_name": "Python 3 (ipykernel)",
   "language": "python",
   "name": "python3"
  },
  "language_info": {
   "codemirror_mode": {
    "name": "ipython",
    "version": 3
   },
   "file_extension": ".py",
   "mimetype": "text/x-python",
   "name": "python",
   "nbconvert_exporter": "python",
   "pygments_lexer": "ipython3",
   "version": "3.11.5"
  }
 },
 "nbformat": 4,
 "nbformat_minor": 1
}
