{
 "cells": [
  {
   "cell_type": "code",
   "execution_count": 1,
   "id": "77bc956f",
   "metadata": {},
   "outputs": [],
   "source": [
    "#!pip install opencv-python\n",
    "#!pip install matplotlib\n"
   ]
  },
  {
   "cell_type": "code",
   "execution_count": 22,
   "id": "dbc115e8",
   "metadata": {
    "scrolled": true
   },
   "outputs": [
    {
     "data": {
      "image/png": "[encoded data removed]",
      "text/plain": [
       "<Figure size 640x480 with 1 Axes>"
      ]
     },
     "metadata": {},
     "output_type": "display_data"
    }
   ],
   "source": [
    "import matplotlib.pyplot as plt\n",
    "import matplotlib.image as plt_img\n",
    "import cv2\n",
    "import glob\n",
    "plt.axis('off')  \n",
    "images_paths = glob.glob('angular-1to1/*_*.jpg')\n",
    "for file_name in images_paths:\n",
    "    color_image = plt_img.imread(file_name)\n",
    "    gray_image = cv2.imread(file_name,0)\n",
    "    threshold, binarized_image = cv2.threshold(gray_image, 127, 255, cv2.THRESH_BINARY)\n",
    "    plt.imshow(color_image)\n",
    "    plt.show()\n",
    "    plt.imshow(binarized_image,cmap=\"gray\")\n",
    "    plt.show()"
   ]
  },
  {
   "cell_type": "code",
   "execution_count": null,
   "id": "03b5fea2-1e07-4aca-b4fe-e68ebdd1c388",
   "metadata": {},
   "outputs": [],
   "source": [
    "\n"
   ]
  },
  {
   "cell_type": "code",
   "execution_count": 23,
   "id": "9c0dee57-fe06-4596-aa0c-793fb095ba37",
   "metadata": {},
   "outputs": [],
   "source": [
    "import numpy as np\n",
    "import cv2 as cv\n",
    "import glob\n",
    "import matplotlib.pyplot as plt\n",
    "def scanner_calibrate_camera(path='img/angular.png',show_images=False):\n",
    "    #---------------------------------PARAMETERS\n",
    "    rows_count = 6\n",
    "    columns_count = 9\n",
    "    #---------------------------------\n",
    "    # termination criteria\n",
    "    criteria = (cv.TERM_CRITERIA_EPS + cv.TERM_CRITERIA_MAX_ITER, 30, 0.1)\n",
    "    # prepare object points, like (0,0,0), (1,0,0), (2,0,0) ....,(6,5,0)\n",
    "    objp = np.zeros((rows_count*columns_count,3), np.float32)\n",
    "    objp[:,:2] = np.mgrid[0:columns_count,0:rows_count].T.reshape(-1,2)\n",
    "    # Arrays to store object points and image points from all the images.\n",
    "    objpoints = [] # 3d point in real world space\n",
    "    imgpoints = [] # 2d points in image plane.\n",
    "    #images = glob.glob('angular-1to1/*.jpg')\n",
    "    images = glob.glob(path)\n",
    "    for fname in images:\n",
    "        print(\"Loading image: \"+fname)\n",
    "        img = cv.imread(fname)\n",
    "        gray = cv.cvtColor(img, cv.COLOR_BGR2GRAY)\n",
    "        # Find the chess board corners\n",
    "        ret, corners = cv.findChessboardCorners(gray, (columns_count,rows_count), None)\n",
    "        # If found, add object points, image points (after refining them)\n",
    "        if ret == True:\n",
    "            print(fname+\": calibrate success\")\n",
    "            objpoints.append(objp)\n",
    "            corners2 = cv.cornerSubPix(gray,corners, (11,11), (-1,-1), criteria)\n",
    "            imgpoints.append(corners2)\n",
    "            # Draw and display the corners\n",
    "            cv.drawChessboardCorners(img, (columns_count,rows_count), corners2, ret)\n",
    "            if show_images:\n",
    "                plt.imshow(cv.cvtColor(img, cv.COLOR_BGR2RGB))\n",
    "                plt.axis(\"off\")\n",
    "                plt.show()\n",
    "        else:\n",
    "            print(fname+\": chessboard not found\")\n",
    "\n",
    "    ret, mtx, dist, rvecs, tvecs = cv.calibrateCamera(objpoints, imgpoints, gray.shape[::-1], None, None)\n",
    "    return ret, mtx, dist, rvecs, tvecs"
   ]
  },
  {
   "cell_type": "markdown",
   "id": "2a60d108-069d-4f0b-ba24-f5de8953ccbb",
   "metadata": {},
   "source": [
    "### CALIBRATION"
   ]
  },
  {
   "cell_type": "code",
   "execution_count": 21,
   "id": "277b5dd9-0364-4beb-b04e-5f4de48ba4e4",
   "metadata": {},
   "outputs": [
    {
     "ename": "TypeError",
     "evalue": "scanner_calibrate_camera() got an unexpected keyword argument 'show_images'",
     "output_type": "error",
     "traceback": [
      "\u001b[1;31m---------------------------------------------------------------------------\u001b[0m",
      "\u001b[1;31mTypeError\u001b[0m                                 Traceback (most recent call last)",
      "\u001b[1;32m~\\AppData\\Local\\Temp\\ipykernel_4192\\2064188459.py\u001b[0m in \u001b[0;36m<module>\u001b[1;34m\u001b[0m\n\u001b[0;32m      1\u001b[0m \u001b[1;31m#CALIBRATION\u001b[0m\u001b[1;33m\u001b[0m\u001b[1;33m\u001b[0m\u001b[0m\n\u001b[1;32m----> 2\u001b[1;33m \u001b[0mret\u001b[0m\u001b[1;33m,\u001b[0m \u001b[0mmtx\u001b[0m\u001b[1;33m,\u001b[0m \u001b[0mdist\u001b[0m\u001b[1;33m,\u001b[0m \u001b[0mrvecs\u001b[0m\u001b[1;33m,\u001b[0m \u001b[0mtvecs\u001b[0m \u001b[1;33m=\u001b[0m \u001b[0mscanner_calibrate_camera\u001b[0m\u001b[1;33m(\u001b[0m\u001b[0mimage_path_pattern\u001b[0m\u001b[1;33m=\u001b[0m\u001b[1;34m'img/angular.png'\u001b[0m\u001b[1;33m,\u001b[0m\u001b[0mshow_images\u001b[0m\u001b[1;33m=\u001b[0m\u001b[1;32mTrue\u001b[0m\u001b[1;33m)\u001b[0m\u001b[1;33m\u001b[0m\u001b[1;33m\u001b[0m\u001b[0m\n\u001b[0m",
      "\u001b[1;31mTypeError\u001b[0m: scanner_calibrate_camera() got an unexpected keyword argument 'show_images'"
     ]
    }
   ],
   "source": [
    "#CALIBRATION\n",
    "ret, mtx, dist, rvecs, tvecs = scanner_calibrate_camera(image_path_pattern='img/angular.png',show_images=True)"
   ]
  },
  {
   "cell_type": "code",
   "execution_count": 20,
   "id": "fcf8cf3a",
   "metadata": {},
   "outputs": [
    {
     "name": "stdout",
     "output_type": "stream",
     "text": [
      "[[495.39024638   0.         507.59337878]\n",
      " [  0.         479.48434647 344.88812147]\n",
      " [  0.           0.           1.        ]]\n",
      "(array([[-0.13412995],\n",
      "       [-1.40731318],\n",
      "       [-2.51013875]]),)\n"
     ]
    }
   ],
   "source": [
    "print(mtx)\n",
    "print(rvecs)"
   ]
  },
  {
   "cell_type": "code",
   "execution_count": null,
   "id": "a7d42b39-ce6c-464f-8742-a035afffca3e",
   "metadata": {},
   "outputs": [],
   "source": [
    "img = cv.imread('angular.png')\n",
    "h,  w = img.shape[:2]\n",
    "newcameramtx, roi = cv.getOptimalNewCameraMatrix(mtx, dist, (w,h), 1, (w,h))"
   ]
  },
  {
   "cell_type": "code",
   "execution_count": null,
   "id": "75f9a550-7de1-4993-bc47-0866d5cdda11",
   "metadata": {},
   "outputs": [],
   "source": [
    "# undistort\n",
    "dst = cv.undistort(img, mtx, dist, None, newcameramtx)\n",
    "# crop the image\n",
    "x, y, w, h = roi\n",
    "dst = dst[y:y+h, x:x+w]\n",
    "cv.imwrite('calibresult.png', dst)"
   ]
  },
  {
   "cell_type": "code",
   "execution_count": null,
   "id": "bca2389e-be47-4019-a017-b64c21f78654",
   "metadata": {},
   "outputs": [],
   "source": [
    "import matplotlib.pyplot as plt\n",
    "import matplotlib.image as plt_img\n",
    "import cv2\n",
    "import glob\n",
    "\n",
    "images_paths = ['angular-test.jpg','calibresult.png']\n",
    "for file_name in images_paths:\n",
    "    color_image = plt_img.imread(file_name)\n",
    "    plt.axis('off')  \n",
    "    plt.imshow(color_image)\n",
    "    plt.show()"
   ]
  },
  {
   "cell_type": "code",
   "execution_count": null,
   "id": "ffe7bd67-aa62-4d6c-95bc-ff840a4a46a7",
   "metadata": {},
   "outputs": [],
   "source": []
  },
  {
   "cell_type": "code",
   "execution_count": null,
   "id": "9c6f89e2-6a11-4acb-b407-11afc9808d89",
   "metadata": {},
   "outputs": [],
   "source": []
  },
  {
   "cell_type": "code",
   "execution_count": null,
   "id": "7dd6c7cb-97c1-44e0-ae4e-b2d94f219356",
   "metadata": {},
   "outputs": [],
   "source": []
  }
 ],
 "metadata": {
  "kernelspec": {
   "display_name": "Python 3 (ipykernel)",
   "language": "python",
   "name": "python3"
  },
  "language_info": {
   "codemirror_mode": {
    "name": "ipython",
    "version": 3
   },
   "file_extension": ".py",
   "mimetype": "text/x-python",
   "name": "python",
   "nbconvert_exporter": "python",
   "pygments_lexer": "ipython3",
   "version": "3.9.13"
  }
 },
 "nbformat": 4,
 "nbformat_minor": 5
}
