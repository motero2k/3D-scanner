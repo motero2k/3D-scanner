{
 "cells": [
  {
   "cell_type": "markdown",
   "id": "36268634-c124-40b8-ad1e-ee22433dec04",
   "metadata": {},
   "source": [
    "Pasos:\n",
    "\n",
    "1 Calibrar camara\n",
    "\n",
    "2 Rotacion de camara\n",
    "\n",
    "3 Siluetas\n",
    "\n",
    "4 Visual Hull"
   ]
  },
  {
   "cell_type": "markdown",
   "id": "91c25010-c70d-4d16-add2-377e8bf6f417",
   "metadata": {},
   "source": [
    "### Calibrar cámara\n"
   ]
  },
  {
   "cell_type": "code",
   "execution_count": 4,
   "id": "b130f08c-84bd-471e-bf2f-5a279476a123",
   "metadata": {},
   "outputs": [
    {
     "name": "stdout",
     "output_type": "stream",
     "text": [
      "Collecting pandas\n",
      "  Downloading pandas-2.2.2-cp311-cp311-win_amd64.whl.metadata (19 kB)\n",
      "Requirement already satisfied: numpy>=1.23.2 in c:\\users\\manol\\appdata\\local\\programs\\python\\python311\\lib\\site-packages (from pandas) (1.26.4)\n",
      "Requirement already satisfied: python-dateutil>=2.8.2 in c:\\users\\manol\\appdata\\local\\programs\\python\\python311\\lib\\site-packages (from pandas) (2.8.2)\n",
      "Collecting pytz>=2020.1 (from pandas)\n",
      "  Downloading pytz-2024.1-py2.py3-none-any.whl.metadata (22 kB)\n",
      "Collecting tzdata>=2022.7 (from pandas)\n",
      "  Downloading tzdata-2024.1-py2.py3-none-any.whl.metadata (1.4 kB)\n",
      "Requirement already satisfied: six>=1.5 in c:\\users\\manol\\appdata\\local\\programs\\python\\python311\\lib\\site-packages (from python-dateutil>=2.8.2->pandas) (1.16.0)\n",
      "Downloading pandas-2.2.2-cp311-cp311-win_amd64.whl (11.6 MB)\n",
      "   ---------------------------------------- 0.0/11.6 MB ? eta -:--:--\n",
      "    --------------------------------------- 0.2/11.6 MB 6.9 MB/s eta 0:00:02\n",
      "   ---- ----------------------------------- 1.4/11.6 MB 21.8 MB/s eta 0:00:01\n",
      "   ------- -------------------------------- 2.1/11.6 MB 26.7 MB/s eta 0:00:01\n",
      "   ------- -------------------------------- 2.1/11.6 MB 26.7 MB/s eta 0:00:01\n",
      "   ------- -------------------------------- 2.1/11.6 MB 26.7 MB/s eta 0:00:01\n",
      "   ------- -------------------------------- 2.1/11.6 MB 26.7 MB/s eta 0:00:01\n",
      "   ------- -------------------------------- 2.1/11.6 MB 26.7 MB/s eta 0:00:01\n",
      "   ------- -------------------------------- 2.1/11.6 MB 26.7 MB/s eta 0:00:01\n",
      "   ------- -------------------------------- 2.1/11.6 MB 26.7 MB/s eta 0:00:01\n",
      "   ---------- ----------------------------- 3.0/11.6 MB 8.4 MB/s eta 0:00:02\n",
      "   ------------------ --------------------- 5.3/11.6 MB 13.6 MB/s eta 0:00:01\n",
      "   -------------------------- ------------- 7.7/11.6 MB 18.3 MB/s eta 0:00:01\n",
      "   --------------------------------- ------ 9.8/11.6 MB 21.7 MB/s eta 0:00:01\n",
      "   ---------------------------------------  11.4/11.6 MB 24.2 MB/s eta 0:00:01\n",
      "   ---------------------------------------- 11.6/11.6 MB 21.8 MB/s eta 0:00:00\n",
      "Downloading pytz-2024.1-py2.py3-none-any.whl (505 kB)\n",
      "   ---------------------------------------- 0.0/505.5 kB ? eta -:--:--\n",
      "   --------------------------------------- 505.5/505.5 kB 31.0 MB/s eta 0:00:00\n",
      "Downloading tzdata-2024.1-py2.py3-none-any.whl (345 kB)\n",
      "   ---------------------------------------- 0.0/345.4 kB ? eta -:--:--\n",
      "   --------------------------------------- 345.4/345.4 kB 20.9 MB/s eta 0:00:00\n",
      "Installing collected packages: pytz, tzdata, pandas\n",
      "Successfully installed pandas-2.2.2 pytz-2024.1 tzdata-2024.1\n"
     ]
    },
    {
     "name": "stderr",
     "output_type": "stream",
     "text": [
      "\n",
      "[notice] A new release of pip is available: 23.3.1 -> 24.0\n",
      "[notice] To update, run: python.exe -m pip install --upgrade pip\n"
     ]
    }
   ],
   "source": [
    "!pip install pandas"
   ]
  },
  {
   "cell_type": "code",
   "execution_count": 3,
   "id": "8a92e050-3c0c-4d59-b20e-207ecb0a0568",
   "metadata": {},
   "outputs": [
    {
     "ename": "ModuleNotFoundError",
     "evalue": "No module named 'pandas'",
     "output_type": "error",
     "traceback": [
      "\u001b[1;31m---------------------------------------------------------------------------\u001b[0m",
      "\u001b[1;31mModuleNotFoundError\u001b[0m                       Traceback (most recent call last)",
      "Cell \u001b[1;32mIn[3], line 6\u001b[0m\n\u001b[0;32m      4\u001b[0m \u001b[38;5;28;01mimport\u001b[39;00m \u001b[38;5;21;01mmatplotlib\u001b[39;00m\u001b[38;5;21;01m.\u001b[39;00m\u001b[38;5;21;01mpyplot\u001b[39;00m \u001b[38;5;28;01mas\u001b[39;00m \u001b[38;5;21;01mplt\u001b[39;00m\n\u001b[0;32m      5\u001b[0m \u001b[38;5;28;01mimport\u001b[39;00m \u001b[38;5;21;01mmatplotlib\u001b[39;00m \u001b[38;5;28;01mas\u001b[39;00m \u001b[38;5;21;01mmpl\u001b[39;00m\n\u001b[1;32m----> 6\u001b[0m \u001b[38;5;28;01mimport\u001b[39;00m \u001b[38;5;21;01mpandas\u001b[39;00m \u001b[38;5;28;01mas\u001b[39;00m \u001b[38;5;21;01mpd\u001b[39;00m\n\u001b[0;32m      7\u001b[0m get_ipython()\u001b[38;5;241m.\u001b[39mrun_line_magic(\u001b[38;5;124m'\u001b[39m\u001b[38;5;124mmatplotlib\u001b[39m\u001b[38;5;124m'\u001b[39m, \u001b[38;5;124m'\u001b[39m\u001b[38;5;124mnbagg\u001b[39m\u001b[38;5;124m'\u001b[39m)\n",
      "\u001b[1;31mModuleNotFoundError\u001b[0m: No module named 'pandas'"
     ]
    }
   ],
   "source": [
    "\n",
    "import numpy as np\n",
    "import cv2, PIL\n",
    "from cv2 import aruco\n",
    "import matplotlib.pyplot as plt\n",
    "import matplotlib as mpl\n",
    "import pandas as pd\n",
    "%matplotlib nbagg"
   ]
  },
  {
   "cell_type": "code",
   "execution_count": null,
   "id": "d6c96e7d-2e50-4c16-b4e9-792caa901743",
   "metadata": {},
   "outputs": [],
   "source": []
  },
  {
   "cell_type": "code",
   "execution_count": null,
   "id": "53548fa1-819b-492e-8b45-92252fb41a83",
   "metadata": {},
   "outputs": [],
   "source": []
  },
  {
   "cell_type": "code",
   "execution_count": null,
   "id": "43cfc90c-295e-468f-ae0b-d7fdb21dafab",
   "metadata": {},
   "outputs": [],
   "source": []
  },
  {
   "cell_type": "code",
   "execution_count": null,
   "id": "946e848d-8f8a-45d4-896d-7362e0087437",
   "metadata": {},
   "outputs": [],
   "source": []
  },
  {
   "cell_type": "code",
   "execution_count": null,
   "id": "429f7257-a749-4883-bb10-a18100179670",
   "metadata": {},
   "outputs": [],
   "source": []
  },
  {
   "cell_type": "markdown",
   "id": "2af89972-843a-4785-893a-0f3e9f57c00f",
   "metadata": {},
   "source": [
    "### Rotación cámara\n"
   ]
  },
  {
   "cell_type": "code",
   "execution_count": null,
   "id": "16a686ba-77ba-4026-ad36-d48981f2898a",
   "metadata": {},
   "outputs": [],
   "source": []
  },
  {
   "cell_type": "markdown",
   "id": "16ac826b-d7e9-452a-8852-bc895fbc7841",
   "metadata": {},
   "source": [
    "### Siluetas\n"
   ]
  },
  {
   "cell_type": "code",
   "execution_count": null,
   "id": "81e152a9-3407-4e61-9644-18dfab91886b",
   "metadata": {},
   "outputs": [],
   "source": []
  },
  {
   "cell_type": "markdown",
   "id": "51abbfcc-8f78-4e36-a150-be2a8fe27668",
   "metadata": {},
   "source": [
    "### Visual Hull\n"
   ]
  },
  {
   "cell_type": "code",
   "execution_count": null,
   "id": "260f4242-38a1-4ff4-95dd-360285ffbadc",
   "metadata": {},
   "outputs": [],
   "source": []
  },
  {
   "cell_type": "code",
   "execution_count": null,
   "id": "1f03d53d-341d-4f2e-b760-c787f773da7d",
   "metadata": {},
   "outputs": [],
   "source": []
  }
 ],
 "metadata": {
  "kernelspec": {
   "display_name": "Python 3 (ipykernel)",
   "language": "python",
   "name": "python3"
  },
  "language_info": {
   "codemirror_mode": {
    "name": "ipython",
    "version": 3
   },
   "file_extension": ".py",
   "mimetype": "text/x-python",
   "name": "python",
   "nbconvert_exporter": "python",
   "pygments_lexer": "ipython3",
   "version": "3.11.5"
  }
 },
 "nbformat": 4,
 "nbformat_minor": 5
}
