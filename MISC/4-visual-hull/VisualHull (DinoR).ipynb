{
 "cells": [
  {
   "cell_type": "code",
   "execution_count": 130,
   "metadata": {
    "colab": {
     "base_uri": "https://localhost:8080/"
    },
    "id": "icLgO5UMeWSy",
    "outputId": "88890988-9e3e-494e-eae9-8810e94d9844"
   },
   "outputs": [
    {
     "name": "stdout",
     "output_type": "stream",
     "text": [
      "--2020-11-11 18:26:26--  https://vision.middlebury.edu/mview/data/data/dinoSparseRing.zip\n",
      "Resolving vision.middlebury.edu (vision.middlebury.edu)... 140.233.20.14\n",
      "Connecting to vision.middlebury.edu (vision.middlebury.edu)|140.233.20.14|:443... connected.\n",
      "WARNING: cannot verify vision.middlebury.edu's certificate, issued by ‘CN=InCommon RSA Server CA,OU=InCommon,O=Internet2,L=Ann Arbor,ST=MI,C=US’:\n",
      "  Unable to locally verify the issuer's authority.\n",
      "HTTP request sent, awaiting response... 200 OK\n",
      "Length: 3812923 (3.6M) [application/zip]\n",
      "Saving to: ‘dinoSparseRing.zip’\n",
      "\n",
      "dinoSparseRing.zip  100%[===================>]   3.64M   603KB/s    in 10s     \n",
      "\n",
      "2020-11-11 18:26:38 (361 KB/s) - ‘dinoSparseRing.zip’ saved [3812923/3812923]\n",
      "\n"
     ]
    }
   ],
   "source": [
    "!wget https://vision.middlebury.edu/mview/data/data/dinoSparseRing.zip --no-check-certificate"
   ]
  },
  {
   "cell_type": "code",
   "execution_count": 1,
   "metadata": {
    "id": "IMA4NStHAmoh"
   },
   "outputs": [],
   "source": [
    "import cv2\n",
    "import numpy as np\n",
    "from itertools import product"
   ]
  },
  {
   "cell_type": "code",
   "execution_count": 15,
   "metadata": {
    "id": "97sf3O0pO7Bj"
   },
   "outputs": [],
   "source": [
    "data_dir = \"dinoSparseRing\"\n",
    "file_base = \"dinoSR\"\n",
    "T = 19"
   ]
  },
  {
   "cell_type": "code",
   "execution_count": 16,
   "metadata": {
    "colab": {
     "base_uri": "https://localhost:8080/"
    },
    "id": "o5vQvzHLBnXl",
    "outputId": "8904e2a0-7c48-4e53-beef-5d0876f7cec3"
   },
   "outputs": [
    {
     "name": "stderr",
     "output_type": "stream",
     "text": [
      "'unzip' is not recognized as an internal or external command,\n",
      "operable program or batch file.\n"
     ]
    }
   ],
   "source": [
    "!unzip dinoSparseRing.zip"
   ]
  },
  {
   "cell_type": "markdown",
   "metadata": {
    "id": "cWA404rBUSLs"
   },
   "source": [
    "# Reading Images and Camera Parameters"
   ]
  },
  {
   "cell_type": "code",
   "execution_count": 26,
   "metadata": {
    "id": "fcJut9bHPA62"
   },
   "outputs": [
    {
     "name": "stdout",
     "output_type": "stream",
     "text": [
      "k [[3.3104e+03 0.0000e+00 3.1673e+02]\n",
      " [0.0000e+00 3.3255e+03 2.0055e+02]\n",
      " [0.0000e+00 0.0000e+00 1.0000e+00]] r [[-0.14396457  0.96965265  0.19760618]\n",
      " [-0.9036658  -0.04743335 -0.4256042 ]\n",
      " [-0.40331537 -0.23984131  0.88306934]] t [[-0.01041551]\n",
      " [-0.02942789]\n",
      " [ 0.6730978 ]] aaaa [[-6.0432239e+02  3.1339731e+03  9.3385004e+02  1.7871077e+02]\n",
      " [-3.0860256e+03 -2.0583980e+02 -1.2382472e+03  3.7127323e+01]\n",
      " [-4.0331537e-01 -2.3984131e-01  8.8306934e-01  6.7309779e-01]]\n",
      "\n",
      "k [[3.3104e+03 0.0000e+00 3.1673e+02]\n",
      " [0.0000e+00 3.3255e+03 2.0055e+02]\n",
      " [0.0000e+00 0.0000e+00 1.0000e+00]] r [[-0.23143688  0.9642233   0.12926938]\n",
      " [-0.65860814 -0.05749426 -0.7502864 ]\n",
      " [-0.71601206 -0.25878137  0.6483505 ]] t [[-0.01433927]\n",
      " [-0.03153563]\n",
      " [ 0.6593141 ]] aaaa [[-9.9293115e+02  3.1100010e+03  6.3328540e+02  1.6135585e+02]\n",
      " [-2.3337976e+03 -2.4309576e+02 -2.3650508e+03  2.7353695e+01]\n",
      " [-7.1601206e-01 -2.5878137e-01  6.4835048e-01  6.5931410e-01]]\n",
      "\n",
      "k [[3.3104e+03 0.0000e+00 3.1673e+02]\n",
      " [0.0000e+00 3.3255e+03 2.0055e+02]\n",
      " [0.0000e+00 0.0000e+00 1.0000e+00]] r [[-0.28437647  0.95818716  0.03174118]\n",
      " [-0.30447987 -0.05887271 -0.9506971 ]\n",
      " [-0.9090781  -0.28002027  0.30848995]] t [[-0.01813968]\n",
      " [-0.02775934]\n",
      " [ 0.6458558 ]] aaaa [[-1.2293322e+03  3.0832917e+03  2.0278401e+02  1.4451233e+02]\n",
      " [-1.1948634e+03 -2.5193929e+02 -3.0996755e+03  3.7212704e+01]\n",
      " [-9.0907812e-01 -2.8002027e-01  3.0848995e-01  6.4585578e-01]]\n",
      "\n",
      "k [[3.3104e+03 0.0000e+00 3.1673e+02]\n",
      " [0.0000e+00 3.3255e+03 2.0055e+02]\n",
      " [0.0000e+00 0.0000e+00 1.0000e+00]] r [[-0.29401782  0.9525436  -0.07882995]\n",
      " [ 0.10008332 -0.05134047 -0.99365294]\n",
      " [-0.9505461  -0.3000413  -0.08023904]] t [[-0.02118747]\n",
      " [-0.01872427]\n",
      " [ 0.6349513 ]] aaaa [[-1.2743831e+03  3.0582683e+03 -2.8637280e+02  1.3096912e+02]\n",
      " [ 1.4219507e+02 -2.3090602e+02 -3.3204849e+03  6.5071930e+01]\n",
      " [-9.5054609e-01 -3.0004129e-01 -8.0239035e-02  6.3495129e-01]]\n",
      "\n",
      "k [[3.3104e+03 0.0000e+00 3.1673e+02]\n",
      " [0.0000e+00 3.3255e+03 2.0055e+02]\n",
      " [0.0000e+00 0.0000e+00 1.0000e+00]] r [[-0.25876448  0.94822717 -0.18413591]\n",
      " [ 0.4880949  -0.0361447  -0.8720413 ]\n",
      " [-0.8335498  -0.31552944 -0.45347172]] t [[-0.02297801]\n",
      " [-0.00592643]\n",
      " [ 0.6284061 ]] aaaa [[-1.1206241e+03  3.0390735e+03 -7.5319165e+02  1.2296866e+02]\n",
      " [ 1.4559911e+03 -1.8347864e+02 -2.9909172e+03  1.0631850e+02]\n",
      " [-8.3354980e-01 -3.1552944e-01 -4.5347172e-01  6.2840611e-01]]\n",
      "\n",
      "k [[3.3104e+03 0.0000e+00 3.1673e+02]\n",
      " [0.0000e+00 3.3255e+03 2.0055e+02]\n",
      " [0.0000e+00 0.0000e+00 1.0000e+00]] r [[-0.18445362  0.9459525  -0.26674047]\n",
      " [ 0.79530895 -0.01580148 -0.6059983 ]\n",
      " [-0.5774613  -0.3239202  -0.74940926]] t [[-0.02321482]\n",
      " [ 0.00851514]\n",
      " [ 0.6273041 ]] aaaa [[-7.93514587e+02  3.02888574e+03 -1.12037805e+03  1.21835678e+02]\n",
      " [ 2.52898999e+03 -1.17510025e+02 -2.16554126e+03  1.54122940e+02]\n",
      " [-5.77461302e-01 -3.23920190e-01 -7.49409258e-01  6.27304077e-01]]\n",
      "\n",
      "k [[3.3104e+03 0.0000e+00 3.1673e+02]\n",
      " [0.0000e+00 3.3255e+03 2.0055e+02]\n",
      " [0.0000e+00 0.0000e+00 1.0000e+00]] r [[-0.08338945  0.9460961  -0.3129661 ]\n",
      " [ 0.97085774  0.00632081 -0.23957467]\n",
      " [-0.22468293 -0.32382426 -0.91905105]] t [[-0.02185869]\n",
      " [ 0.02220925]\n",
      " [ 0.63182753]] aaaa [[-3.4721625e+02  3.0293916e+03 -1.3271340e+03  1.2775774e+02]\n",
      " [ 3.1835273e+03 -4.3923111e+01 -9.8102124e+02  2.0056989e+02]\n",
      " [-2.2468293e-01 -3.2382426e-01 -9.1905105e-01  6.3182753e-01]]\n",
      "\n",
      "k [[3.3104e+03 0.0000e+00 3.1673e+02]\n",
      " [0.0000e+00 3.3255e+03 2.0055e+02]\n",
      " [0.0000e+00 0.0000e+00 1.0000e+00]] r [[ 0.0276941   0.94863445 -0.31515896]\n",
      " [ 0.9856744   0.02655922  0.16655809]\n",
      " [ 0.1663731  -0.3152575  -0.93430823]] t [[-0.01913416]\n",
      " [ 0.03288846]\n",
      " [ 0.6412276 ]] aaaa [[ 1.4437390e+02  3.0405078e+03 -1.3392257e+03  1.3975430e+02]\n",
      " [ 3.3112263e+03  2.5097795e+01  3.6651340e+02  2.3796878e+02]\n",
      " [ 1.6637310e-01 -3.1525749e-01 -9.3430823e-01  6.4122760e-01]]\n",
      "\n",
      "k [[3.3104e+03 0.0000e+00 3.1673e+02]\n",
      " [0.0000e+00 3.3255e+03 2.0055e+02]\n",
      " [0.0000e+00 0.0000e+00 1.0000e+00]] r [[ 0.13040408  0.9531471  -0.27295592]\n",
      " [ 0.83730555  0.04156273  0.54515356]\n",
      " [ 0.5309568  -0.2996384  -0.7926546 ]] t [[-0.01549236]\n",
      " [ 0.03878454]\n",
      " [ 0.6539478 ]] aaaa [[ 5.9985962e+02  3.0603936e+03 -1.1546508e+03  1.5583899e+02]\n",
      " [ 2.8909429e+03  7.8124390e+01  1.6539413e+03  2.6012723e+02]\n",
      " [ 5.3095680e-01 -2.9963839e-01 -7.9265457e-01  6.5394777e-01]]\n",
      "\n",
      "k [[3.3104e+03 0.0000e+00 3.1673e+02]\n",
      " [0.0000e+00 3.3255e+03 2.0055e+02]\n",
      " [0.0000e+00 0.0000e+00 1.0000e+00]] r [[ 0.20773408  0.95888686 -0.19334486]\n",
      " [ 0.5503178   0.0488471   0.83352494]\n",
      " [ 0.80870134 -0.27955312 -0.51754475]] t [[-0.01153628]\n",
      " [ 0.03892123]\n",
      " [ 0.6678819 ]] aaaa [[ 9.4382281e+02  3.0857561e+03 -8.0397076e+02  1.7334856e+02]\n",
      " [ 1.9922670e+03  1.0637665e+02  2.6680935e+03  2.6337628e+02]\n",
      " [ 8.0870134e-01 -2.7955312e-01 -5.1754475e-01  6.6788191e-01]]\n",
      "\n",
      "k [[3.3104e+03 0.0000e+00 3.1673e+02]\n",
      " [0.0000e+00 3.3255e+03 2.0055e+02]\n",
      " [0.0000e+00 0.0000e+00 1.0000e+00]] r [[ 0.24687997  0.9649034  -0.08950756]\n",
      " [ 0.17222983  0.0472062   0.98392445]\n",
      " [ 0.95361847 -0.2583273  -0.15453066]] t [[-0.00792096]\n",
      " [ 0.0332759 ]\n",
      " [ 0.68072283]] aaaa [[ 1.1193110e+03  3.1123960e+03 -3.4525031e+02  1.8938380e+02]\n",
      " [ 7.6399847e+02  1.0517667e+02  3.2410496e+03  2.4717798e+02]\n",
      " [ 9.5361847e-01 -2.5832731e-01 -1.5453066e-01  6.8072283e-01]]\n",
      "\n",
      "k [[3.3104e+03 0.0000e+00 3.1673e+02]\n",
      " [0.0000e+00 3.3255e+03 2.0055e+02]\n",
      " [0.0000e+00 0.0000e+00 1.0000e+00]] r [[ 0.24136008  0.9702005   0.02136286]\n",
      " [-0.2343556   0.03691172  0.97144926]\n",
      " [ 0.9417132  -0.23947552  0.23628071]] t [[-0.00524502]\n",
      " [ 0.02278328]\n",
      " [ 0.6903444 ]] aaaa [[ 1.0972672e+03  3.1359023e+03  1.4555679e+02  2.0128967e+02]\n",
      " [-5.9048895e+02  7.4723106e+01  3.2779404e+03  2.1421437e+02]\n",
      " [ 9.4171321e-01 -2.3947552e-01  2.3628071e-01  6.9034439e-01]]\n",
      "\n",
      "k [[3.3104e+03 0.0000e+00 3.1673e+02]\n",
      " [0.0000e+00 3.3255e+03 2.0055e+02]\n",
      " [0.0000e+00 0.0000e+00 1.0000e+00]] r [[ 0.19208838  0.9739011   0.12090875]\n",
      " [-0.60211706  0.0196682   0.7981651 ]\n",
      " [ 0.7749568  -0.22611915  0.59017986]] t [[-0.00395153]\n",
      " [ 0.00918072]\n",
      " [ 0.6951534 ]] aaaa [[ 8.8134143e+02  3.1523835e+03  5.8718402e+02  2.0709480e+02]\n",
      " [-1.8469227e+03  2.0058397e+01  2.7726587e+03  1.6994351e+02]\n",
      " [ 7.7495682e-01 -2.2611915e-01  5.9017986e-01  6.9515342e-01]]\n",
      "\n",
      "k [[3.3104e+03 0.0000e+00 3.1673e+02]\n",
      " [0.0000e+00 3.3255e+03 2.0055e+02]\n",
      " [0.0000e+00 0.0000e+00 1.0000e+00]] r [[ 0.10722316  0.9753924   0.19264759]\n",
      " [-0.87016165 -0.00166923  0.49276376]\n",
      " [ 0.48096034 -0.22046973  0.84856904]] t [[-0.00425467]\n",
      " [-0.00527951]\n",
      " [ 0.6943537 ]] aaaa [[ 5.0728610e+02  3.1591096e+03  9.0650781e+02  2.0583801e+02]\n",
      " [-2.7972661e+03 -4.9766220e+01  1.8088665e+03  1.2169563e+02]\n",
      " [ 4.8096034e-01 -2.2046973e-01  8.4856904e-01  6.9435370e-01]]\n",
      "\n",
      "k [[3.3104e+03 0.0000e+00 3.1673e+02]\n",
      " [0.0000e+00 3.3255e+03 2.0055e+02]\n",
      " [0.0000e+00 0.0000e+00 1.0000e+00]] r [[ 8.1616681e-04  9.7442752e-01  2.2470103e-01]\n",
      " [-9.9410719e-01 -2.3567561e-02  1.0581290e-01]\n",
      " [ 1.0840301e-01 -2.2346267e-01  9.6866488e-01]] t [[-0.00610424]\n",
      " [-0.01820312]\n",
      " [ 0.6880776 ]] aaaa [[ 3.7036327e+01  3.1549675e+03  1.0506555e+03  1.9772737e+02]\n",
      " [-3.2841633e+03 -1.2318936e+02  5.4614655e+02  7.7459503e+01]\n",
      " [ 1.0840301e-01 -2.2346267e-01  9.6866488e-01  6.8807763e-01]]\n",
      "\n",
      "k [[3.3104e+03 0.0000e+00 3.1673e+02]\n",
      " [0.0000e+00 3.3255e+03 2.0055e+02]\n",
      " [0.0000e+00 0.0000e+00 1.0000e+00]] r [[-0.109514    0.97116625  0.21176174]\n",
      " [-0.95343107 -0.04240093 -0.29861718]\n",
      " [-0.28102815 -0.2346024   0.9305823 ]] t [[-0.00919399]\n",
      " [-0.02745025]\n",
      " [ 0.67736435]] aaaa [[-4.5154517e+02  3.1406431e+03  9.9575940e+02  1.8410583e+02]\n",
      " [-3.2269951e+03 -1.8805382e+02 -8.0642316e+02  4.4559616e+01]\n",
      " [-2.8102815e-01 -2.3460241e-01  9.3058228e-01  6.7736435e-01]]\n",
      "\n"
     ]
    }
   ],
   "source": [
    "# Reading the camera parameters from 'dinoSR_par.txt'\n",
    "with open(data_dir + \"/\" + file_base + \"_par.txt\", 'r') as f:\n",
    "  lines = f.readlines() \n",
    "\n",
    "  M = []\n",
    "  for l in lines[1:]: \n",
    "    tmp = np.array(l.strip().split(\" \")[1:]).astype(np.float32)\n",
    "    K = tmp[0:9].reshape((3, 3))\n",
    "    R = tmp[9:18].reshape((3, 3))\n",
    "    t = tmp[18:].reshape((3, 1))\n",
    "    M.append(np.matmul(K, np.concatenate([R, t], axis=1)))\n",
    "    print(\"k\",K,\"r\",R,\"t\",t,\"aaaa\",np.matmul(K, np.concatenate([R, t], axis=1)))\n",
    "    print()\n",
    "\n",
    "  N = len(lines) - 1"
   ]
  },
  {
   "cell_type": "code",
   "execution_count": 18,
   "metadata": {
    "colab": {
     "base_uri": "https://localhost:8080/"
    },
    "id": "CvcUb-SFAK18",
    "outputId": "485141b1-1d26-4a8c-c68f-9538530f6523"
   },
   "outputs": [
    {
     "name": "stdout",
     "output_type": "stream",
     "text": [
      "[[0. 0. 0. ... 0. 0. 0.]\n",
      " [0. 0. 0. ... 0. 0. 0.]\n",
      " [0. 0. 0. ... 0. 0. 0.]\n",
      " ...\n",
      " [0. 0. 0. ... 0. 0. 0.]\n",
      " [0. 0. 0. ... 0. 0. 0.]\n",
      " [0. 0. 0. ... 0. 0. 0.]]\n",
      "[[0. 0. 0. ... 0. 0. 0.]\n",
      " [0. 0. 0. ... 0. 0. 0.]\n",
      " [0. 0. 0. ... 0. 0. 0.]\n",
      " ...\n",
      " [0. 0. 0. ... 0. 0. 0.]\n",
      " [0. 0. 0. ... 0. 0. 0.]\n",
      " [0. 0. 0. ... 0. 0. 0.]]\n",
      "[[0. 0. 0. ... 0. 0. 0.]\n",
      " [0. 0. 0. ... 0. 0. 0.]\n",
      " [0. 0. 0. ... 0. 0. 0.]\n",
      " ...\n",
      " [0. 0. 0. ... 0. 0. 0.]\n",
      " [0. 0. 0. ... 0. 0. 0.]\n",
      " [0. 0. 0. ... 0. 0. 0.]]\n",
      "[[0. 0. 0. ... 0. 0. 0.]\n",
      " [0. 0. 0. ... 0. 0. 0.]\n",
      " [0. 0. 0. ... 0. 0. 0.]\n",
      " ...\n",
      " [0. 0. 0. ... 0. 0. 0.]\n",
      " [0. 0. 0. ... 0. 0. 0.]\n",
      " [0. 0. 0. ... 0. 0. 0.]]\n",
      "[[0. 0. 0. ... 0. 0. 0.]\n",
      " [0. 0. 0. ... 0. 0. 0.]\n",
      " [0. 0. 0. ... 0. 0. 0.]\n",
      " ...\n",
      " [0. 0. 0. ... 0. 0. 0.]\n",
      " [0. 0. 0. ... 0. 0. 0.]\n",
      " [0. 0. 0. ... 0. 0. 0.]]\n",
      "[[0. 0. 0. ... 0. 0. 0.]\n",
      " [0. 0. 0. ... 0. 0. 0.]\n",
      " [0. 0. 0. ... 0. 0. 0.]\n",
      " ...\n",
      " [0. 0. 0. ... 0. 0. 0.]\n",
      " [0. 0. 0. ... 0. 0. 0.]\n",
      " [0. 0. 0. ... 0. 0. 0.]]\n",
      "[[0. 0. 0. ... 0. 0. 0.]\n",
      " [0. 0. 0. ... 0. 0. 0.]\n",
      " [0. 0. 0. ... 0. 0. 0.]\n",
      " ...\n",
      " [0. 0. 0. ... 0. 0. 0.]\n",
      " [0. 0. 0. ... 0. 0. 0.]\n",
      " [0. 0. 0. ... 0. 0. 0.]]\n",
      "[[0. 0. 0. ... 0. 0. 0.]\n",
      " [0. 0. 0. ... 0. 0. 0.]\n",
      " [0. 0. 0. ... 0. 0. 0.]\n",
      " ...\n",
      " [0. 0. 0. ... 0. 0. 0.]\n",
      " [0. 0. 0. ... 0. 0. 0.]\n",
      " [0. 0. 0. ... 0. 0. 0.]]\n",
      "[[0. 0. 0. ... 0. 0. 0.]\n",
      " [0. 0. 0. ... 0. 0. 0.]\n",
      " [0. 0. 0. ... 0. 0. 0.]\n",
      " ...\n",
      " [0. 0. 0. ... 0. 0. 0.]\n",
      " [0. 0. 0. ... 0. 0. 0.]\n",
      " [0. 0. 0. ... 0. 0. 0.]]\n",
      "[[0. 0. 0. ... 0. 0. 0.]\n",
      " [0. 0. 0. ... 0. 0. 0.]\n",
      " [0. 0. 0. ... 0. 0. 0.]\n",
      " ...\n",
      " [0. 0. 0. ... 0. 0. 0.]\n",
      " [0. 0. 0. ... 0. 0. 0.]\n",
      " [0. 0. 0. ... 0. 0. 0.]]\n",
      "[[0. 0. 0. ... 0. 0. 0.]\n",
      " [0. 0. 0. ... 0. 0. 0.]\n",
      " [0. 0. 0. ... 0. 0. 0.]\n",
      " ...\n",
      " [0. 0. 0. ... 0. 0. 0.]\n",
      " [0. 0. 0. ... 0. 0. 0.]\n",
      " [0. 0. 0. ... 0. 0. 0.]]\n",
      "[[0. 0. 0. ... 0. 0. 0.]\n",
      " [0. 0. 0. ... 0. 0. 0.]\n",
      " [0. 0. 0. ... 0. 0. 0.]\n",
      " ...\n",
      " [0. 0. 0. ... 0. 0. 0.]\n",
      " [0. 0. 0. ... 0. 0. 0.]\n",
      " [0. 0. 0. ... 0. 0. 0.]]\n",
      "[[0. 0. 0. ... 0. 0. 0.]\n",
      " [0. 0. 0. ... 0. 0. 0.]\n",
      " [0. 0. 0. ... 0. 0. 0.]\n",
      " ...\n",
      " [0. 0. 0. ... 0. 0. 0.]\n",
      " [0. 0. 0. ... 0. 0. 0.]\n",
      " [0. 0. 0. ... 0. 0. 0.]]\n",
      "[[0. 0. 0. ... 0. 0. 0.]\n",
      " [0. 0. 0. ... 0. 0. 0.]\n",
      " [0. 0. 0. ... 0. 0. 0.]\n",
      " ...\n",
      " [0. 0. 0. ... 0. 0. 0.]\n",
      " [0. 0. 0. ... 0. 0. 0.]\n",
      " [0. 0. 0. ... 0. 0. 0.]]\n",
      "[[0. 0. 0. ... 0. 0. 0.]\n",
      " [0. 0. 0. ... 0. 0. 0.]\n",
      " [0. 0. 0. ... 0. 0. 0.]\n",
      " ...\n",
      " [0. 0. 0. ... 0. 0. 0.]\n",
      " [0. 0. 0. ... 0. 0. 0.]\n",
      " [0. 0. 0. ... 0. 0. 0.]]\n",
      "[[0. 0. 0. ... 0. 0. 0.]\n",
      " [0. 0. 0. ... 0. 0. 0.]\n",
      " [0. 0. 0. ... 0. 0. 0.]\n",
      " ...\n",
      " [0. 0. 0. ... 0. 0. 0.]\n",
      " [0. 0. 0. ... 0. 0. 0.]\n",
      " [0. 0. 0. ... 0. 0. 0.]]\n"
     ]
    }
   ],
   "source": [
    "# Reading images\n",
    "imgs = []\n",
    "kernel = np.ones((3,3), np.uint8) \n",
    "for i in range(N):\n",
    "  im = cv2.imread(data_dir + \"/\" + file_base + f'{i + 1:04}' + \".png\", 0) / 255\n",
    "  im = cv2.erode(im, kernel, iterations=1) \n",
    "  im = cv2.dilate(im, kernel, iterations=1) \n",
    "  _, im = cv2.threshold(im, 0.1, 1, cv2.THRESH_BINARY)\n",
    "  print(im)\n",
    "  imgs.append(np.array(im))\n",
    "imgs = np.array(imgs)"
   ]
  },
  {
   "cell_type": "code",
   "execution_count": 19,
   "metadata": {
    "colab": {
     "base_uri": "https://localhost:8080/",
     "height": 538
    },
    "id": "AFneaF8d3o9x",
    "outputId": "4bbe7a8d-915c-4f06-8227-34494e3f68ca"
   },
   "outputs": [
    {
     "data": {
      "text/plain": [
       "<matplotlib.image.AxesImage at 0x1f1b13ff5d0>"
      ]
     },
     "execution_count": 19,
     "metadata": {},
     "output_type": "execute_result"
    },
    {
     "data": {
      "image/png": "[encoded data removed]",
      "text/plain": [
       "<Figure size 640x480 with 1 Axes>"
      ]
     },
     "metadata": {},
     "output_type": "display_data"
    },
    {
     "data": {
      "image/png": "[encoded data removed]",
      "text/plain": [
       "<Figure size 640x480 with 1 Axes>"
      ]
     },
     "metadata": {},
     "output_type": "display_data"
    }
   ],
   "source": [
    "import matplotlib.pyplot as plt\n",
    "\n",
    "plt.figure()\n",
    "plt.imshow(imgs[0])\n",
    "plt.figure()\n",
    "plt.imshow(imgs[10])"
   ]
  },
  {
   "cell_type": "code",
   "execution_count": 20,
   "metadata": {
    "id": "WtZYjyiKCayi"
   },
   "outputs": [],
   "source": [
    "# Thresholding images for masking\n",
    "silhouettes = []\n",
    "for im in imgs:\n",
    "  silhouettes.append(im > 0)\n",
    "silhouettes = np.array(silhouettes).transpose(1, 2, 0)"
   ]
  },
  {
   "cell_type": "code",
   "execution_count": 21,
   "metadata": {
    "colab": {
     "base_uri": "https://localhost:8080/",
     "height": 538
    },
    "id": "0ECd2PS65wPf",
    "outputId": "3047b18b-5df2-425e-8093-73476163a400"
   },
   "outputs": [
    {
     "data": {
      "text/plain": [
       "<matplotlib.image.AxesImage at 0x1f1b1e68290>"
      ]
     },
     "execution_count": 21,
     "metadata": {},
     "output_type": "execute_result"
    },
    {
     "data": {
      "image/png": "[encoded data removed]",
      "text/plain": [
       "<Figure size 640x480 with 1 Axes>"
      ]
     },
     "metadata": {},
     "output_type": "display_data"
    },
    {
     "data": {
      "image/png": "[encoded data removed]",
      "text/plain": [
       "<Figure size 640x480 with 1 Axes>"
      ]
     },
     "metadata": {},
     "output_type": "display_data"
    }
   ],
   "source": [
    "import matplotlib.pyplot as plt\n",
    "\n",
    "plt.figure()\n",
    "plt.imshow(silhouettes[:, :, 0])\n",
    "plt.figure()\n",
    "plt.imshow(silhouettes[:, :, 10])"
   ]
  },
  {
   "cell_type": "markdown",
   "metadata": {
    "id": "_dDLgho6ybZg"
   },
   "source": [
    "# Visual Hull"
   ]
  },
  {
   "cell_type": "code",
   "execution_count": 28,
   "metadata": {
    "id": "kQGUo23nE7QE"
   },
   "outputs": [],
   "source": [
    "# Define a voxel grid which has the 3D locations of each voxel which can then be projected onto each image\n",
    "def InitializeVoxels(xlim, ylim, zlim, voxel_size):\n",
    "  voxels_number = [1, 1, 1]\n",
    "  voxels_number[0] = np.abs(xlim[1]-xlim[0]) / voxel_size[0]\n",
    "  voxels_number[1] = np.abs(ylim[1]-ylim[0]) / voxel_size[1]\n",
    "  voxels_number[2] = np.abs(zlim[1]-zlim[0]) / voxel_size[2]\n",
    "  voxels_number_act = np.array(voxels_number).astype(int) + 1\n",
    "  total_number = np.prod(voxels_number_act)\n",
    "\n",
    "  voxel = np.ones((int(total_number), 4))\n",
    "\n",
    "  sx = xlim[0]\n",
    "  ex = xlim[1]\n",
    "  sy = ylim[0]\n",
    "  ey = ylim[1]\n",
    "  sz = zlim[0]\n",
    "  ez = zlim[1]\n",
    "\n",
    "  if(ex > sx):\n",
    "    x_step = voxel_size[0];\n",
    "  else:\n",
    "    x_step = -voxel_size[0];\n",
    "\n",
    "  if(ey > sy):\n",
    "    y_step = voxel_size[1];\n",
    "  else:\n",
    "    y_step = -voxel_size[1];\n",
    "\n",
    "  if(ez > sz):\n",
    "    z_step = voxel_size[2];\n",
    "  else:\n",
    "    z_step = -voxel_size[2];\n",
    "\n",
    "  voxel3Dx, voxel3Dy, voxel3Dz = np.meshgrid(np.linspace(sx, ex, voxels_number_act[0]), \n",
    "                                             np.linspace(sy, ey, voxels_number_act[1]),\n",
    "                                             np.linspace(sz, ez, voxels_number_act[2]))\n",
    "  \n",
    "  l = 0;\n",
    "  for z in np.linspace(sz, ez, voxels_number_act[2]):\n",
    "    for x in np.linspace(sx, ex, voxels_number_act[0]):\n",
    "      for y in np.linspace(sy, ey, voxels_number_act[1]):\n",
    "        voxel[l] = [x, y, z, 1] \n",
    "        l=l+1\n",
    "\n",
    "  return voxel, voxel3Dx, voxel3Dy, voxel3Dz, voxels_number"
   ]
  },
  {
   "cell_type": "code",
   "execution_count": 29,
   "metadata": {
    "id": "1CKFAlGKEltn"
   },
   "outputs": [],
   "source": [
    "voxel_size = [0.001, 0.001, 0.001] # size of each voxel\n",
    "\n",
    "# The dimension limits\n",
    "xlim = [0.07, -0.04] # [-0.04, 0.07]\n",
    "ylim = [0.022, 0.132] # [0.04, 0.15]\n",
    "zlim = [0.07, -0.04] # [-0.04, 0.07]\n",
    "\n",
    "voxels, voxel3Dx, voxel3Dy, voxel3Dz, voxels_number = InitializeVoxels(xlim, ylim, zlim, voxel_size);"
   ]
  },
  {
   "cell_type": "code",
   "execution_count": 30,
   "metadata": {
    "colab": {
     "base_uri": "https://localhost:8080/"
    },
    "id": "EseNdcDxzMIf",
    "outputId": "0167a728-242d-4477-b15d-e18afbd5b9eb"
   },
   "outputs": [
    {
     "name": "stdout",
     "output_type": "stream",
     "text": [
      "(1367631, 4)\n"
     ]
    }
   ],
   "source": [
    "print(voxels.shape)"
   ]
  },
  {
   "cell_type": "code",
   "execution_count": 31,
   "metadata": {
    "colab": {
     "base_uri": "https://localhost:8080/"
    },
    "id": "8F-kz8vO1g-m",
    "outputId": "27607e24-e8f0-40d3-f399-2d557000c44a"
   },
   "outputs": [
    {
     "name": "stdout",
     "output_type": "stream",
     "text": [
      "[[ 0.07   0.022  0.07   1.   ]\n",
      " [ 0.07   0.023  0.07   1.   ]\n",
      " [ 0.07   0.024  0.07   1.   ]\n",
      " ...\n",
      " [-0.04   0.13  -0.04   1.   ]\n",
      " [-0.04   0.131 -0.04   1.   ]\n",
      " [-0.04   0.132 -0.04   1.   ]]\n"
     ]
    }
   ],
   "source": [
    "print(voxels) # The first three values are the x-y-z-coordinates of the voxel, the fourth value is a dummy variable which we will use later on"
   ]
  },
  {
   "cell_type": "code",
   "execution_count": 32,
   "metadata": {
    "id": "RAKgv-NY03Q5"
   },
   "outputs": [],
   "source": [
    "object_points3D = np.copy(voxels).T\n",
    "voxels[:, 3] = 0 # making the fourth variable of each voxel 0\n",
    "\n",
    "proj = []\n",
    "\n",
    "for i in range(N):\n",
    "\n",
    "  # CAMERA PARAMETERS\n",
    "  M_ = M[i]\n",
    "\n",
    "  # PROJECTION TO THE IMAGE PLANE\n",
    "  points2D = np.matmul(M_, object_points3D)\n",
    "  points2D = np.floor(points2D / points2D[2, :]).astype(np.int32)\n",
    "  points2D[np.where(points2D < 0)] = 0; # check for negative image coordinates\n",
    "\n",
    "  img_size = (silhouettes).shape\n",
    "  ind1 = np.where(points2D[1, :] >= img_size[0]) # check for out-of-bounds (width) coordinate\n",
    "  points2D[:, ind1] = 0\n",
    "  ind1 = np.where(points2D[0, :] >= img_size[1]) # check for out-of-bounds (height) coordinate\n",
    "  points2D[:, ind1] = 0\n",
    "\n",
    "  # ACCUMULATE THE VALUE OF EACH VOXEL IN THE CURRENT IMAGE\n",
    "  voxels[:, 3] += silhouettes[:, :, i].T[points2D.T[:, 0], points2D.T[:, 1]]\n",
    "\n",
    "  proj.append(points2D)"
   ]
  },
  {
   "cell_type": "code",
   "execution_count": 33,
   "metadata": {
    "colab": {
     "base_uri": "https://localhost:8080/"
    },
    "id": "EwaRDTtRJF1j",
    "outputId": "991bab52-1061-496b-f3e1-52903cf9312e"
   },
   "outputs": [
    {
     "name": "stdout",
     "output_type": "stream",
     "text": [
      "[[ 0.07   0.022  0.07   1.   ]\n",
      " [ 0.07   0.023  0.07   1.   ]\n",
      " [ 0.07   0.024  0.07   1.   ]\n",
      " ...\n",
      " [-0.04   0.13  -0.04   0.   ]\n",
      " [-0.04   0.131 -0.04   0.   ]\n",
      " [-0.04   0.132 -0.04   0.   ]]\n"
     ]
    }
   ],
   "source": [
    "print(voxels) # the fourth value is the number of image views (out of N total) which contain this voxel in the object mask"
   ]
  },
  {
   "cell_type": "code",
   "execution_count": 34,
   "metadata": {
    "id": "qpfN7aeCQQqV"
   },
   "outputs": [],
   "source": [
    "def ConvertVoxelList2Voxel3D(voxels_number, voxel_size, voxel):\n",
    "  sx = -(voxels_number[0] / 2) * voxel_size[0]\n",
    "  ex = voxels_number[0] / 2 * voxel_size[0]\n",
    "\n",
    "  sy = -(voxels_number[1] / 2) * voxel_size[1]\n",
    "  ey = voxels_number[1] / 2 * voxel_size[1]\n",
    "\n",
    "  sz = -(voxels_number[2] / 2) * voxel_size[2] # 0;\n",
    "  ez = voxels_number[2] / 2 * voxel_size[2] # voxels_number[2] * voxel_size[2]\n",
    "  voxels_number = np.array(voxels_number).astype(np.int32)\n",
    "  voxel3D = np.zeros((voxels_number[1] + 1, voxels_number[0] + 1, voxels_number[2] + 1));\n",
    "\n",
    "  l = 0\n",
    "  z1 = 0\n",
    "  for z in np.arange(sz, ez, voxel_size[2]):\n",
    "      x1 = 0\n",
    "      for x in np.arange(sx, ex, voxel_size[0]):\n",
    "          y1 = 0\n",
    "          for y in np.arange(sy, ey, voxel_size[1]):\n",
    "              voxel3D[y1, x1, z1] = voxel[l, 3]\n",
    "              l = l + 1\n",
    "              y1 = y1 + 1\n",
    "          x1 = x1 + 1\n",
    "      z1 = z1 + 1\n",
    "\n",
    "  return voxel3D"
   ]
  },
  {
   "cell_type": "code",
   "execution_count": 380,
   "metadata": {
    "colab": {
     "base_uri": "https://localhost:8080/"
    },
    "id": "VpDTpqoiQQr0",
    "outputId": "f233727b-c350-45db-e649-4b47b647ff0a"
   },
   "outputs": [
    {
     "name": "stdout",
     "output_type": "stream",
     "text": [
      "max number of votes:48.0\n",
      "threshold for marching cube:45.5\n"
     ]
    }
   ],
   "source": [
    "error_amount = 5\n",
    "maxv = np.max(voxels[:, 3])\n",
    "iso_value = maxv-np.round(((maxv)/100)*error_amount)-0.5\n",
    "print('max number of votes:' + str(maxv))\n",
    "print('threshold for marching cube:' + str(iso_value))\n",
    "\n",
    "voxel3D = ConvertVoxelList2Voxel3D(np.array(voxels_number), voxel_size, voxels)"
   ]
  },
  {
   "cell_type": "code",
   "execution_count": 381,
   "metadata": {
    "colab": {
     "base_uri": "https://localhost:8080/"
    },
    "id": "eVW1ZTVi0rPx",
    "outputId": "56fae87f-81ba-4af3-c12a-ba8b06d7d76b"
   },
   "outputs": [
    {
     "name": "stdout",
     "output_type": "stream",
     "text": [
      "[[[48. 48. 48. ... 48. 48. 48.]\n",
      "  [48. 48. 48. ... 48. 48. 48.]\n",
      "  [48. 48. 48. ... 48. 48. 48.]\n",
      "  ...\n",
      "  [48. 48. 48. ... 48. 48. 48.]\n",
      "  [48. 48. 48. ... 48. 48. 48.]\n",
      "  [48. 48. 48. ... 48. 48. 48.]]\n",
      "\n",
      " [[48. 48. 48. ... 48. 48. 48.]\n",
      "  [48.  6.  6. ...  7.  7.  7.]\n",
      "  [48.  6.  6. ...  7.  7.  7.]\n",
      "  ...\n",
      "  [48. 10. 10. ...  5.  5.  5.]\n",
      "  [48. 10.  9. ...  4.  5.  5.]\n",
      "  [48. 10.  9. ...  4.  4.  4.]]\n",
      "\n",
      " [[48. 48. 48. ... 48. 48. 48.]\n",
      "  [48.  6.  6. ...  7.  7.  7.]\n",
      "  [48.  6.  6. ...  7.  7.  7.]\n",
      "  ...\n",
      "  [48. 10. 10. ...  5.  5.  5.]\n",
      "  [48. 10. 10. ...  4.  4.  4.]\n",
      "  [48. 10.  9. ...  4.  4.  4.]]\n",
      "\n",
      " ...\n",
      "\n",
      " [[48. 48. 48. ... 48. 48. 48.]\n",
      "  [48.  0.  0. ...  0.  0.  0.]\n",
      "  [48.  0.  0. ...  0.  0.  0.]\n",
      "  ...\n",
      "  [48.  0.  0. ...  0.  0.  0.]\n",
      "  [48.  0.  0. ...  0.  0.  0.]\n",
      "  [48.  0.  0. ...  0.  0.  0.]]\n",
      "\n",
      " [[48. 48. 48. ... 48. 48. 48.]\n",
      "  [48.  0.  0. ...  0.  0.  0.]\n",
      "  [48.  0.  0. ...  0.  0.  0.]\n",
      "  ...\n",
      "  [48.  0.  0. ...  0.  0.  0.]\n",
      "  [48.  0.  0. ...  0.  0.  0.]\n",
      "  [48.  0.  0. ...  0.  0.  0.]]\n",
      "\n",
      " [[48. 48. 48. ... 48. 48. 48.]\n",
      "  [48.  0.  0. ...  0.  0.  0.]\n",
      "  [48.  0.  0. ...  0.  0.  0.]\n",
      "  ...\n",
      "  [48.  0.  0. ...  0.  0.  0.]\n",
      "  [48.  0.  0. ...  0.  0.  0.]\n",
      "  [48.  0.  0. ...  0.  0.  0.]]]\n"
     ]
    }
   ],
   "source": [
    "# debug\n",
    "voxel3D[0, :, :] = maxv\n",
    "# voxel3D[-1, :, :] = maxv\n",
    "\n",
    "voxel3D[:, 0, :] = maxv\n",
    "# voxel3D[:, -1, :] = maxv\n",
    "\n",
    "voxel3D[:, :, 0] = maxv\n",
    "# voxel3D[:, :, -1] = maxv\n",
    "print(voxel3D)"
   ]
  },
  {
   "cell_type": "markdown",
   "metadata": {
    "id": "d7WPKMKOL8vc"
   },
   "source": [
    "# Marching Cubes"
   ]
  },
  {
   "cell_type": "code",
   "execution_count": 382,
   "metadata": {
    "id": "juywEVQpL-nt"
   },
   "outputs": [],
   "source": [
    "# !pip install --upgrade PyMCubes\n",
    "# !pip install pycollada"
   ]
  },
  {
   "cell_type": "code",
   "execution_count": 383,
   "metadata": {
    "id": "osgjmy7ML8R_"
   },
   "outputs": [],
   "source": [
    "import numpy as np\n",
    "import mcubes\n",
    "\n",
    "# Extract the 0-isosurface\n",
    "vertices, triangles = mcubes.marching_cubes(voxel3D, iso_value)\n",
    "\n",
    "# Export the result to sphere.dae\n",
    "mcubes.export_mesh(vertices, triangles, \"DinoR_21.dae\", \"DinoR_21_\")"
   ]
  },
  {
   "cell_type": "code",
   "execution_count": 372,
   "metadata": {
    "id": "lRCzfdqdfJcQ"
   },
   "outputs": [],
   "source": []
  }
 ],
 "metadata": {
  "colab": {
   "name": "VisualHull.ipynb",
   "provenance": []
  },
  "kernelspec": {
   "display_name": "Python 3 (ipykernel)",
   "language": "python",
   "name": "python3"
  },
  "language_info": {
   "codemirror_mode": {
    "name": "ipython",
    "version": 3
   },
   "file_extension": ".py",
   "mimetype": "text/x-python",
   "name": "python",
   "nbconvert_exporter": "python",
   "pygments_lexer": "ipython3",
   "version": "3.11.7"
  }
 },
 "nbformat": 4,
 "nbformat_minor": 4
}
